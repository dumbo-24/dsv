{
 "cells": [
  {
   "cell_type": "code",
   "execution_count": 1,
   "id": "81f89d83",
   "metadata": {},
   "outputs": [],
   "source": [
    "import numpy as np\n",
    "import pandas as pd\n",
    "import matplotlib.pyplot as plt\n",
    "from numpy.random import randint\n",
    "import warnings\n",
    "warnings.filterwarnings('ignore')"
   ]
  },
  {
   "cell_type": "code",
   "execution_count": 2,
   "id": "1641db63",
   "metadata": {},
   "outputs": [
    {
     "data": {
      "text/plain": [
       "array([39, 55, 60, 52, 54, 36, 58, 36, 68, 39, 52, 51, 30, 49, 34, 42, 63,\n",
       "       42, 36, 32, 42, 37, 57, 50, 34, 39, 37, 68, 65, 64, 31, 34, 45, 52,\n",
       "       42, 66, 43, 40, 54, 49, 50, 66, 55, 52, 34, 46, 65, 50, 45, 30, 48,\n",
       "       65, 38, 42, 49, 51, 66, 68, 58, 53, 53, 59, 64, 63, 39, 54, 54, 63,\n",
       "       48, 63, 51, 67, 32, 46, 45, 45, 49, 42, 55, 49, 64, 38, 63, 60, 62,\n",
       "       66, 54, 32, 59, 34, 45, 55, 64, 59, 30, 69, 44, 61, 46, 46, 36, 59,\n",
       "       35, 60, 48, 49, 46, 39, 60, 42, 58, 58, 57, 55, 49, 34, 47, 50, 44,\n",
       "       47, 47, 66, 46, 59, 56, 56, 57, 67, 44, 55, 63, 56, 43, 38, 60, 55,\n",
       "       64, 42, 63, 65, 66, 57, 48, 50, 33, 69, 61, 35, 49, 51, 48, 58, 68,\n",
       "       38, 32, 56, 45, 42, 63, 50, 56, 55, 47, 47, 69, 48, 58, 35, 51, 49,\n",
       "       46, 58, 56, 47, 34, 68, 58, 69, 39, 57, 51, 44, 68, 51, 30, 68, 68,\n",
       "       60, 36, 43, 57, 63, 36, 52, 61, 46, 56, 57, 53, 60, 49, 40, 46, 58,\n",
       "       69, 50, 54, 34, 43, 56, 64, 50, 49, 52, 30, 41, 60, 69, 41, 65, 63,\n",
       "       30, 34, 45, 47, 65, 45, 43, 39, 36, 48, 43, 44, 44, 35, 62, 49, 62,\n",
       "       66, 39, 49, 51, 32, 59, 64, 56, 64, 56, 45, 64, 43, 68, 50, 42, 63,\n",
       "       62, 55, 41, 45, 48, 67, 33, 43, 53, 57, 53, 46, 60, 51, 37, 66, 47,\n",
       "       64, 61, 67, 41, 53, 44, 57, 55, 58, 48, 45, 67, 67, 49, 34, 38, 69,\n",
       "       42, 59, 50, 46, 43, 47, 34, 69, 53, 35, 47, 49, 46, 45, 50, 61, 50,\n",
       "       45, 65, 64, 57, 50, 35, 57, 30, 57, 31, 30, 58, 67, 69, 67, 65, 40,\n",
       "       36, 38, 31, 44, 49, 52, 42, 42, 67, 65, 41, 36, 35, 43, 46, 64, 30,\n",
       "       59, 60, 37, 69, 56, 60, 56, 45, 33, 68, 49, 32, 49, 46, 60, 46, 57,\n",
       "       63, 39, 33, 43, 47, 53, 65, 52, 41, 55, 30, 63, 39, 61, 57, 39, 43,\n",
       "       62, 34, 33, 69, 38, 44, 39, 56, 34, 41, 32, 37, 33, 65, 68, 32, 42,\n",
       "       50, 32, 45, 59, 34, 54, 64, 41, 60, 63, 51, 50, 48, 47, 62, 65, 40,\n",
       "       50, 59, 58, 34, 65, 32, 42, 65, 36, 43, 48, 41, 61, 51, 42, 47, 40,\n",
       "       68, 64, 44, 53, 46, 44, 36, 57, 34, 49, 69, 46, 66, 40, 58, 39, 43,\n",
       "       53, 65, 48, 32, 48, 53, 64, 69, 56, 49, 39, 42, 61, 59, 59, 30, 46,\n",
       "       46, 43, 31, 63, 36, 34, 40, 59, 56, 50, 32, 30, 34, 56, 32, 57, 46,\n",
       "       35, 52, 58, 53, 51, 68, 61, 63, 51, 30, 36, 33, 35, 69, 64, 57, 32,\n",
       "       55, 58, 57, 40, 49, 55, 65, 66, 38, 42, 65, 43, 56, 56, 36, 60, 38,\n",
       "       65, 43, 50, 58, 38, 58, 45, 55, 35, 67, 45, 48, 53, 57, 65, 63, 31,\n",
       "       48, 64, 39, 53, 40, 64, 69, 48, 62, 63, 53, 49, 63, 32, 51, 60, 64,\n",
       "       51, 53, 62, 57, 50, 56, 37, 45, 47, 31, 47, 63, 39, 48, 51, 65, 47,\n",
       "       58, 54, 47, 35, 41, 45, 40, 61, 42, 68, 60, 39, 39, 51, 49, 49, 45,\n",
       "       46, 47, 56, 54, 58, 33, 55, 69, 34, 69, 39, 33, 48, 42, 69, 65, 50,\n",
       "       58, 35, 44, 57, 46, 47, 47, 45, 30, 40, 31, 59, 55, 60, 66, 63, 67,\n",
       "       30, 54, 69, 38, 34, 63, 53, 32, 35, 36, 64, 59, 34, 60, 50, 36, 57,\n",
       "       59, 49, 34, 44, 64, 39, 44, 51, 60, 67, 32, 59, 60, 33, 41, 42, 41,\n",
       "       47, 65, 65, 45, 37, 46, 49, 33, 41, 62, 66, 48, 32, 68, 53, 46, 62,\n",
       "       30, 50, 42, 59, 60, 47, 33, 57, 48, 49, 42, 51, 34, 40, 57, 62, 49,\n",
       "       43, 45, 48, 59, 60, 50, 65, 65, 40, 66, 66, 62, 61, 51, 66, 51, 43,\n",
       "       33, 31, 32, 55, 63, 32, 58, 51, 54, 64, 64, 41, 37, 45, 31, 31, 52,\n",
       "       50, 46, 54, 35, 52, 62, 65, 66, 30, 69, 68, 48, 59, 32, 32, 60, 43,\n",
       "       52, 42, 66, 51, 38, 67, 39, 35, 55, 63, 35, 53, 61, 32, 60, 54, 54,\n",
       "       62, 31, 38, 38, 69, 51, 61, 58, 59, 69, 40, 40, 30, 57, 36, 52, 39,\n",
       "       55, 41, 40, 48, 68, 47, 67, 42, 30, 66, 36, 53, 59, 38, 35, 61, 69,\n",
       "       40, 31, 63, 69, 62, 49, 56, 66, 52, 53, 69, 50, 33, 52, 36, 69, 36,\n",
       "       65, 55, 67, 67, 68, 38, 30, 64, 48, 61, 46, 30, 69, 49, 40, 41, 36,\n",
       "       51, 42, 48, 30, 33, 59, 47, 52, 34, 64, 62, 53, 52, 39, 44, 54, 40,\n",
       "       47, 31, 45, 43, 69, 36, 59, 69, 44, 32, 41, 64, 36, 35, 34, 51, 39,\n",
       "       34, 40, 68, 41, 31, 31, 56, 53, 60, 40, 69, 64, 66, 44, 69, 47, 41,\n",
       "       56, 40, 35, 44, 43, 63, 64, 65, 52, 35, 35, 32, 30, 52, 65, 61, 64,\n",
       "       37, 64, 67, 38, 31, 38, 66, 42, 60, 56, 39, 53, 40, 51, 63, 47, 56,\n",
       "       51, 68, 42, 52, 32, 37, 55, 30, 43, 41, 32, 44, 66, 61, 48, 65, 56,\n",
       "       50, 35, 48, 46, 50, 32, 63, 33, 46, 35, 36, 53, 62, 49, 36, 69, 49,\n",
       "       55, 62, 54, 39, 46, 37, 69, 40, 41, 67, 63, 68, 30, 39, 33, 55, 56,\n",
       "       63, 67, 61, 38, 64, 69, 68, 56, 59, 39, 31, 64, 34, 48, 58, 49, 66,\n",
       "       55, 41, 47, 63, 35, 65, 61, 60, 50, 40, 42, 58, 34, 38, 63, 46, 49,\n",
       "       57, 52, 55, 55, 56, 64, 55, 32, 61, 65, 46, 49, 65, 59])"
      ]
     },
     "execution_count": 2,
     "metadata": {},
     "output_type": "execute_result"
    }
   ],
   "source": [
    "test=randint(30,70,1000)\n",
    "test"
   ]
  },
  {
   "cell_type": "code",
   "execution_count": 3,
   "id": "ef322611",
   "metadata": {},
   "outputs": [],
   "source": [
    "import statistics"
   ]
  },
  {
   "cell_type": "code",
   "execution_count": 4,
   "id": "ebd1ca6e",
   "metadata": {},
   "outputs": [
    {
     "name": "stdout",
     "output_type": "stream",
     "text": [
      "mean: 50\n"
     ]
    }
   ],
   "source": [
    "mean=statistics.mean(test)\n",
    "print(\"mean:\",mean)"
   ]
  },
  {
   "cell_type": "code",
   "execution_count": 5,
   "id": "38c53ea4",
   "metadata": {},
   "outputs": [
    {
     "name": "stdout",
     "output_type": "stream",
     "text": [
      "variance: 130\n"
     ]
    }
   ],
   "source": [
    "variance=statistics.variance(test)\n",
    "print(\"variance:\",variance)"
   ]
  },
  {
   "cell_type": "code",
   "execution_count": 6,
   "id": "d5cd5510",
   "metadata": {},
   "outputs": [
    {
     "name": "stdout",
     "output_type": "stream",
     "text": [
      "median: 50.0\n"
     ]
    }
   ],
   "source": [
    "median=statistics.median(test)\n",
    "print(\"median:\",median)"
   ]
  },
  {
   "cell_type": "code",
   "execution_count": 7,
   "id": "a1189311",
   "metadata": {},
   "outputs": [
    {
     "name": "stdout",
     "output_type": "stream",
     "text": [
      "mode: 49\n"
     ]
    }
   ],
   "source": [
    "mode=statistics.mode(test)\n",
    "print(\"mode:\", mode)"
   ]
  },
  {
   "cell_type": "code",
   "execution_count": 8,
   "id": "ea3f25c3",
   "metadata": {},
   "outputs": [
    {
     "name": "stdout",
     "output_type": "stream",
     "text": [
      "standard_deviation 11.424807394437773\n"
     ]
    }
   ],
   "source": [
    "Standard_Deviation=np.std(test)\n",
    "print(\"standard_deviation\",Standard_Deviation)\n"
   ]
  },
  {
   "cell_type": "markdown",
   "id": "94b284fe",
   "metadata": {},
   "source": [
    "### Implemantation of normal distribution"
   ]
  },
  {
   "cell_type": "code",
   "execution_count": 9,
   "id": "0071ffd0",
   "metadata": {},
   "outputs": [],
   "source": [
    "size=10000\n",
    "values=np.random.normal(mean,Standard_Deviation,size)"
   ]
  },
  {
   "cell_type": "code",
   "execution_count": 10,
   "id": "2ef5bb79",
   "metadata": {},
   "outputs": [
    {
     "data": {
      "image/png": "[encoded data removed]",
      "text/plain": [
       "<Figure size 640x480 with 1 Axes>"
      ]
     },
     "metadata": {},
     "output_type": "display_data"
    }
   ],
   "source": [
    "plt.hist(values,100)\n",
    "# plotting mean \n",
    "plt.axvline(values.mean(),color='b',linestyle=\"--\",linewidth=2)\n",
    "plt.show()"
   ]
  },
  {
   "cell_type": "markdown",
   "id": "8de44090",
   "metadata": {},
   "source": [
    "## Central Limit Therom"
   ]
  },
  {
   "cell_type": "code",
   "execution_count": 11,
   "id": "b14ef97a",
   "metadata": {},
   "outputs": [
    {
     "name": "stdout",
     "output_type": "stream",
     "text": [
      "[1 3 4 1 2 3 3 3 4 3 4 5 3 1 4 3 2 5 5 2 4 1 3 2 1 3 2 2 3 5 4 3 5 3 1 1 1\n",
      " 5 3 2 4 1 3 2 2 4 1 4 2 3 2 1 4 1 5 1 5 4 3 5 4 1 4 3 4 3 5 4 2 1 1 3 1 4\n",
      " 5 4 2 3 3 5 3 1 5 5 4 1 2 3 3 5 4 4 3 5 1 3 1 1 3 5]\n"
     ]
    }
   ],
   "source": [
    "roll=randint(1,6,100)            \n",
    "print(roll)"
   ]
  },
  {
   "cell_type": "code",
   "execution_count": 12,
   "id": "fa053fbb",
   "metadata": {},
   "outputs": [
    {
     "data": {
      "image/png": "[encoded data removed]",
      "text/plain": [
       "<Figure size 640x480 with 1 Axes>"
      ]
     },
     "metadata": {},
     "output_type": "display_data"
    }
   ],
   "source": [
    "from numpy import mean\n",
    "means=[mean(randint(1,6,100)) for _ in range(1000)]\n",
    "plt.hist(means)\n",
    "plt.show()"
   ]
  },
  {
   "cell_type": "code",
   "execution_count": 13,
   "id": "e9f19793",
   "metadata": {},
   "outputs": [
    {
     "data": {
      "text/plain": [
       "2.9977799999999997"
      ]
     },
     "execution_count": 13,
     "metadata": {},
     "output_type": "execute_result"
    }
   ],
   "source": [
    "mean(means)"
   ]
  },
  {
   "cell_type": "code",
   "execution_count": 14,
   "id": "4436058a",
   "metadata": {},
   "outputs": [
    {
     "data": {
      "text/plain": [
       "<seaborn.axisgrid.FacetGrid at 0x26df481d1d0>"
      ]
     },
     "execution_count": 14,
     "metadata": {},
     "output_type": "execute_result"
    },
    {
     "data": {
      "image/png": "[encoded data removed]",
      "text/plain": [
       "<Figure size 500x500 with 1 Axes>"
      ]
     },
     "metadata": {},
     "output_type": "display_data"
    }
   ],
   "source": [
    "import seaborn as sns\n",
    "sns.displot(data=means, kind=\"kde\")"
   ]
  },
  {
   "cell_type": "code",
   "execution_count": 15,
   "id": "a9058a42",
   "metadata": {},
   "outputs": [
    {
     "data": {
      "text/plain": [
       "3"
      ]
     },
     "execution_count": 15,
     "metadata": {},
     "output_type": "execute_result"
    }
   ],
   "source": [
    "data=randint(1,6,1000000) \n",
    "data\n",
    "statistics.mean(data)"
   ]
  },
  {
   "cell_type": "markdown",
   "id": "c4968536",
   "metadata": {},
   "source": [
    "As per the central Limit Therom mean of smaple means should be equal to population mean and sample means should follow standard normal distribution when plotted.\n",
    "So here our population mean(3)is near about mean of sample means(2.9995) and sample means follows standard uniform distribution hence Central Limit therom is implemented"
   ]
  },
  {
   "cell_type": "markdown",
   "id": "802c988c",
   "metadata": {},
   "source": [
    "### Corelation"
   ]
  },
  {
   "cell_type": "code",
   "execution_count": 16,
   "id": "a85d36db",
   "metadata": {},
   "outputs": [],
   "source": [
    "import sklearn"
   ]
  },
  {
   "cell_type": "code",
   "execution_count": 21,
   "id": "3489bd14",
   "metadata": {},
   "outputs": [
    {
     "data": {
      "text/plain": [
       "array([[1., 1.],\n",
       "       [1., 1.]])"
      ]
     },
     "execution_count": 21,
     "metadata": {},
     "output_type": "execute_result"
    }
   ],
   "source": [
    "import numpy as np\n",
    "\n",
    "np.random.seed(100)\n",
    "\n",
    "#create array of 50 random integers between 0 and 10\n",
    "x = np.random.randint(0, 10, 50)\n",
    "\n",
    "\n",
    "np.corrcoef(x,x)\n",
    "\n"
   ]
  },
  {
   "cell_type": "code",
   "execution_count": 20,
   "id": "6b23f11f",
   "metadata": {},
   "outputs": [
    {
     "data": {
      "text/plain": [
       "array([[1.        , 0.75922733],\n",
       "       [0.75922733, 1.        ]])"
      ]
     },
     "execution_count": 20,
     "metadata": {},
     "output_type": "execute_result"
    }
   ],
   "source": [
    "\n",
    "#create a positively correlated array with some random noise\n",
    "y = x + np.random.randint(10, 20, 50)\n",
    "\n",
    "#calculate the correlation between the two arrays\n",
    "np.corrcoef(x,y)"
   ]
  },
  {
   "cell_type": "code",
   "execution_count": 18,
   "id": "677608d0",
   "metadata": {},
   "outputs": [
    {
     "data": {
      "text/plain": [
       "<matplotlib.collections.PathCollection at 0x26df39b5ad0>"
      ]
     },
     "execution_count": 18,
     "metadata": {},
     "output_type": "execute_result"
    },
    {
     "data": {
      "image/png": "[encoded data removed]",
      "text/plain": [
       "<Figure size 640x480 with 1 Axes>"
      ]
     },
     "metadata": {},
     "output_type": "display_data"
    }
   ],
   "source": [
    "# plotting the data\n",
    "plt.scatter(x, y)\n"
   ]
  },
  {
   "cell_type": "code",
   "execution_count": 19,
   "id": "66916329",
   "metadata": {},
   "outputs": [
    {
     "data": {
      "image/png": "[encoded data removed]",
      "text/plain": [
       "<Figure size 640x480 with 2 Axes>"
      ]
     },
     "metadata": {},
     "output_type": "display_data"
    }
   ],
   "source": [
    "ax = sns.heatmap(np.corrcoef(x,y), annot=True)"
   ]
  },
  {
   "cell_type": "code",
   "execution_count": null,
   "id": "16aeaa4a",
   "metadata": {},
   "outputs": [],
   "source": []
  },
  {
   "cell_type": "code",
   "execution_count": null,
   "id": "cee1adb9",
   "metadata": {},
   "outputs": [],
   "source": []
  },
  {
   "cell_type": "code",
   "execution_count": null,
   "id": "8f1c0d4d",
   "metadata": {},
   "outputs": [],
   "source": []
  }
 ],
 "metadata": {
  "kernelspec": {
   "display_name": "Python 3 (ipykernel)",
   "language": "python",
   "name": "python3"
  },
  "language_info": {
   "codemirror_mode": {
    "name": "ipython",
    "version": 3
   },
   "file_extension": ".py",
   "mimetype": "text/x-python",
   "name": "python",
   "nbconvert_exporter": "python",
   "pygments_lexer": "ipython3",
   "version": "3.11.3"
  }
 },
 "nbformat": 4,
 "nbformat_minor": 5
}
